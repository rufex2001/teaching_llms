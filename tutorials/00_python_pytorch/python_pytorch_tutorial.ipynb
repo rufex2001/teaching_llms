{
 "cells": [
  {
   "cell_type": "markdown",
   "metadata": {},
   "source": [
    "# Advanced Methods in Text Analytics\n",
    "\n",
    "## Basic Python Tutorial\n",
    "\n",
    "* This is aimed at students in data science and similar fields.\n",
    "* It is:\n",
    "    * An introduction to Python as a programming language.\n",
    "    * An introduction to some important Python libraries for data science.\n",
    "* This is not:\n",
    "    * An introduction to programming.\n",
    "    * A comprehensive introduction to Python (for that, see \n",
    "    [here](https://www.w3schools.com/python/)).\n",
    "    * Aimed at computer scientists.\n",
    "* Python has nice guides for common practices.\n",
    "    * E.g. [PEP8](https://peps.python.org/pep-0008/)"
   ]
  },
  {
   "cell_type": "markdown",
   "metadata": {},
   "source": [
    "## Variables\n"
   ]
  },
  {
   "cell_type": "markdown",
   "metadata": {},
   "source": [
    "### Basic Data Types\n",
    "\n",
    "* Python is strong, but dynamically typed\n",
    "* Strong: variables do have types\n",
    "* Dynamic: types are determined at runtime, not at compile time"
   ]
  },
  {
   "cell_type": "code",
   "execution_count": 2,
   "metadata": {},
   "outputs": [],
   "source": [
    "# note that we don't specify types explicitly (because of dynamic typing)\n",
    "\n",
    "# ints and floats\n",
    "a = 12\n",
    "b = 12.0\n",
    "\n",
    "# strings\n",
    "c = \"This is 'a' string\"\n",
    "d = 'This is also a string, useful for \"quotation marks\"'\n",
    "\n",
    "# booleans\n",
    "e = True\n",
    "f = False\n",
    "# g = false  # throws error, why?"
   ]
  },
  {
   "cell_type": "code",
   "execution_count": 3,
   "metadata": {},
   "outputs": [
    {
     "name": "stdout",
     "output_type": "stream",
     "text": [
      "Variable a: 12  (should be an int)\n",
      "Variable b: 12.0 (should be a float)\n",
      "\n",
      "Variable c: This is 'a' string\n",
      "Variable d: This is also a string, useful for \"quotation marks\"\n",
      "\n",
      "Variable e: True  (should be a boolean)\n",
      "Variable f: False (should be a boolean)\n"
     ]
    }
   ],
   "source": [
    "# the print function (useful for debugging)\n",
    "print(\"Variable a: {}  (should be an int)\".format(a))\n",
    "print(\"Variable b: {} (should be a float)\".format(b))\n",
    "print()\n",
    "print(\"Variable c: {}\".format(c))\n",
    "print(\"Variable d: {}\".format(d))\n",
    "print()\n",
    "print(\"Variable e: {}  (should be a boolean)\".format(e))\n",
    "print(\"Variable f: {} (should be a boolean)\".format(f))"
   ]
  },
  {
   "cell_type": "code",
   "execution_count": 4,
   "metadata": {},
   "outputs": [
    {
     "name": "stdout",
     "output_type": "stream",
     "text": [
      "<class 'int'>\n",
      "<class 'float'>\n",
      "\n",
      "<class 'str'>\n",
      "<class 'str'>\n",
      "\n",
      "<class 'bool'>\n",
      "<class 'bool'>\n"
     ]
    }
   ],
   "source": [
    "# we can check a variable's type with the type() function\n",
    "print(type(a))\n",
    "print(type(b))\n",
    "print()\n",
    "print(type(c))\n",
    "print(type(d))\n",
    "print()\n",
    "print(type(f))\n",
    "print(type(f))"
   ]
  },
  {
   "cell_type": "code",
   "execution_count": 6,
   "metadata": {},
   "outputs": [
    {
     "name": "stdout",
     "output_type": "stream",
     "text": [
      "Success\n"
     ]
    }
   ],
   "source": [
    "# you can also use the isinstance() function\n",
    "if isinstance(a, int):\n",
    "    print(\"Success\")"
   ]
  },
  {
   "cell_type": "markdown",
   "metadata": {},
   "source": [
    "### Collections"
   ]
  },
  {
   "cell_type": "code",
   "execution_count": 7,
   "metadata": {},
   "outputs": [
    {
     "name": "stdout",
     "output_type": "stream",
     "text": [
      "LISTS\n",
      "['a', 2, True]\n",
      "['d', ['another', 'list']]\n",
      "\n",
      "SETS\n",
      "{1, 2, 3}\n",
      "{'this', 'is', 'set', 'another'}\n",
      "{'types', 2, 'mixed'}\n",
      "\n",
      "TUPLES\n",
      "(1, 2, 2, 3)\n",
      "('mixed', 'types', 2)\n",
      "\n",
      "DICTS\n",
      "{'key1': 1, 'key2': 2}\n",
      "{'key3': 3, 4: 'key4'}\n",
      "Found it!\n"
     ]
    }
   ],
   "source": [
    "# lists\n",
    "first_list = [\"a\", 2, True]         # mixed types in elements\n",
    "second_list = [\"d\", [\"another\", \"list\"]]  # can include other lists\n",
    "\n",
    "print(\"LISTS\")\n",
    "print(first_list)\n",
    "print(second_list)\n",
    "\n",
    "# sets\n",
    "first_set = {1, 2, 2, 3}  # check the output! is it the same?\n",
    "second_set = {\"this\", \"is\", \"another\", \"set\"}  # is the output order the same?\n",
    "third_set = {\"mixed\", \"types\", 2}  # mixed types \n",
    "\n",
    "print()\n",
    "print(\"SETS\")\n",
    "print(first_set)\n",
    "print(second_set)\n",
    "print(third_set)\n",
    "\n",
    "# tuples\n",
    "first_tuple = (1, 2, 2, 3)\n",
    "second_tuple = (\"mixed\", \"types\", 2)\n",
    "\n",
    "print()\n",
    "print(\"TUPLES\")\n",
    "print(first_tuple)\n",
    "print(second_tuple)\n",
    "\n",
    "# dictionaries\n",
    "first_dict = {\"key1\": 1, \"key2\": 2}\n",
    "second_dict = {\"key3\": 3, 4: \"key4\"}     # keys, values need not be same type\n",
    "\n",
    "print()\n",
    "print(\"DICTS\")\n",
    "print(first_dict)\n",
    "print(second_dict)\n",
    "\n",
    "if \"a\" in first_list:\n",
    "    print(\"Found it!\")"
   ]
  },
  {
   "cell_type": "markdown",
   "metadata": {},
   "source": [
    "* Two main differences between different types of collections\n",
    "    * Efficiency, e.g. retrieval from list is much slower than set/dict\n",
    "    * Mutability, you can change lists, sets and dicts, but not tuples."
   ]
  },
  {
   "cell_type": "code",
   "execution_count": 18,
   "metadata": {},
   "outputs": [
    {
     "name": "stdout",
     "output_type": "stream",
     "text": [
      "Found it!\n"
     ]
    }
   ],
   "source": [
    "some_list = range(1, 10000000)\n",
    "some_set = set(some_list)\n",
    "if 999 in some_set:\n",
    "    print(\"Found it!\")"
   ]
  },
  {
   "cell_type": "markdown",
   "metadata": {},
   "source": [
    "### Operations with Collections"
   ]
  },
  {
   "cell_type": "code",
   "execution_count": 21,
   "metadata": {},
   "outputs": [
    {
     "name": "stdout",
     "output_type": "stream",
     "text": [
      "['a', 'new first element', 'new first element', 2, True, 'new element', 'd', ['another', 'list'], 'new element', 'd', ['another', 'list']]\n",
      "['a', 'new first element', 'new first element', 2, True, 'new element', 'd', ['another', 'list'], 'new element', 'd', ['another', 'list'], 'new element']\n",
      "\n",
      "['a', 'new first element', 'new first element', 2, True, 'new element', 'd', ['another', 'list'], 'new element', 'd', ['another', 'list'], 'new element', 'd', ['another', 'list']]\n",
      "\n",
      "['new first element', 'a', 'new first element', 'new first element', 2, True, 'new element', 'd', ['another', 'list'], 'new element', 'd', ['another', 'list'], 'new element', 'd', ['another', 'list']]\n",
      "\n",
      "Length of 'first_list':  15\n"
     ]
    }
   ],
   "source": [
    "# some examples\n",
    "\n",
    "# append\n",
    "print(first_list)\n",
    "first_list.append(\"new element\")\n",
    "print(first_list)\n",
    "\n",
    "# extend\n",
    "print()\n",
    "first_list.extend(second_list)\n",
    "print(first_list)\n",
    "\n",
    "# insert\n",
    "print()\n",
    "first_list.insert(0, \"new first element\")\n",
    "print(first_list)\n",
    "\n",
    "# len\n",
    "print()\n",
    "print(\"Length of 'first_list': \", len(first_list))\n",
    "\n",
    "# sort\n",
    "# print(first_list.sort())  # throws error if incomparable types"
   ]
  },
  {
   "cell_type": "markdown",
   "metadata": {},
   "source": [
    "## Functions\n",
    "\n",
    "* *Goal:* encapsulate code, the DRY principle"
   ]
  },
  {
   "cell_type": "code",
   "execution_count": null,
   "metadata": {},
   "outputs": [
    {
     "name": "stdout",
     "output_type": "stream",
     "text": [
      "(3, 9)\n",
      "\n",
      "3.0\n",
      "\n",
      "3\n",
      "9\n"
     ]
    }
   ],
   "source": [
    "# example of basic function (including docstrings!)\n",
    "def some_basic_function(some_number):\n",
    "    \"\"\" Returns some_number unchanged. If some_number is an int, also returns\n",
    "    its square.\n",
    "\n",
    "    Args:\n",
    "        some_number (int): Squares a given integer\n",
    "    \"\"\"\n",
    "\n",
    "    if isinstance(some_number, int):\n",
    "        return some_number, some_number ** 2\n",
    "    else:\n",
    "        return some_number\n",
    "\n",
    "arg1 = 3\n",
    "arg2 = 3.0\n",
    "\n",
    "# test it!\n",
    "output1 = some_basic_function(arg1)\n",
    "print(output1)      # note the type of output\n",
    "\n",
    "output2 = some_basic_function(arg2)\n",
    "print()\n",
    "print(output2)\n",
    "\n",
    "# unpacking\n",
    "number, square = some_basic_function(arg1)\n",
    "print()\n",
    "print(number)\n",
    "print(square)\n"
   ]
  },
  {
   "cell_type": "markdown",
   "metadata": {},
   "source": [
    "## Assignment by Copying vs by Reference"
   ]
  },
  {
   "cell_type": "code",
   "execution_count": 23,
   "metadata": {},
   "outputs": [
    {
     "name": "stdout",
     "output_type": "stream",
     "text": [
      "example of a string\n"
     ]
    }
   ],
   "source": [
    "foo = \"example of a string\"\n",
    "bar = foo\n",
    "\n",
    "print(bar)"
   ]
  },
  {
   "cell_type": "code",
   "execution_count": 24,
   "metadata": {},
   "outputs": [
    {
     "name": "stdout",
     "output_type": "stream",
     "text": [
      "changed string\n"
     ]
    }
   ],
   "source": [
    "# now modify bar\n",
    "bar = \"changed string\"\n",
    "\n",
    "print(bar)"
   ]
  },
  {
   "cell_type": "code",
   "execution_count": 25,
   "metadata": {},
   "outputs": [
    {
     "name": "stdout",
     "output_type": "stream",
     "text": [
      "example of a string\n"
     ]
    }
   ],
   "source": [
    "# what is now the value of foo?\n",
    "print(foo)  # should not have changed"
   ]
  },
  {
   "cell_type": "code",
   "execution_count": 26,
   "metadata": {},
   "outputs": [
    {
     "name": "stdout",
     "output_type": "stream",
     "text": [
      "['a', 'b', 'c']\n"
     ]
    }
   ],
   "source": [
    "# let's try with a list\n",
    "foo_list = [\"a\", \"b\", \"c\"]\n",
    "bar_list = foo_list\n",
    "\n",
    "print(bar_list)"
   ]
  },
  {
   "cell_type": "code",
   "execution_count": 27,
   "metadata": {},
   "outputs": [
    {
     "name": "stdout",
     "output_type": "stream",
     "text": [
      "['a', 'b', 'c', 'd']\n"
     ]
    }
   ],
   "source": [
    "# now modify bar_list\n",
    "bar_list.append(\"d\")\n",
    "\n",
    "print(bar_list)"
   ]
  },
  {
   "cell_type": "code",
   "execution_count": 28,
   "metadata": {},
   "outputs": [
    {
     "name": "stdout",
     "output_type": "stream",
     "text": [
      "['a', 'b', 'c', 'd']\n"
     ]
    }
   ],
   "source": [
    "# what is now the value of foo_list?\n",
    "print(foo_list)   # should have changed"
   ]
  },
  {
   "cell_type": "markdown",
   "metadata": {},
   "source": [
    "* Some assignments are made by copy, as in strings _foo_ and _bar_\n",
    "* Some assignments are made by reference, as in lists _foo_list_ and _bar_list_\n",
    "* This is important when writing code in Python!\n",
    "* Similarly, be careful when passing arguments to functions and modifying their value!"
   ]
  },
  {
   "cell_type": "code",
   "execution_count": 30,
   "metadata": {},
   "outputs": [
    {
     "name": "stdout",
     "output_type": "stream",
     "text": [
      "My list BEFORE passing to some function: [1, 2, 3]\n",
      "My list AFTER passing to some function: [2, 4, 6]\n"
     ]
    }
   ],
   "source": [
    "def compute_with_list(some_list):\n",
    "    \"\"\" Function that computes something with some_list\n",
    "\n",
    "    Args:\n",
    "        some_list (list): list to compute something with\n",
    "    \"\"\"\n",
    "\n",
    "    # the classic way of thinking\n",
    "    for element_id in range(len(some_list)):\n",
    "        element = some_list[element_id]\n",
    "\n",
    "    # the modern way\n",
    "    for element in some_list:\n",
    "        pass\n",
    "\n",
    "    # the pythonic way\n",
    "    # note the use of unpacking and enumerate\n",
    "    for id, element in enumerate(some_list):\n",
    "        some_list[id] = element * 2\n",
    "\n",
    "    return some_list\n",
    "\n",
    "# create some list\n",
    "my_list = [1, 2, 3]\n",
    "print(\"My list BEFORE passing to some function:\", my_list)\n",
    "# pass my list to a function that may do some changes to it\n",
    "compute_with_list(my_list)\n",
    "# what happened?\n",
    "print(\"My list AFTER passing to some function:\", my_list)\n"
   ]
  },
  {
   "cell_type": "markdown",
   "metadata": {},
   "source": [
    "* Arguments are passed by reference to functions\n",
    "* We may want that if we want the function to change our object\n",
    "* But we may not want some function changes our object!"
   ]
  },
  {
   "cell_type": "markdown",
   "metadata": {},
   "source": [
    "## Numpy\n",
    "\n",
    "* Essential [library](https://numpy.org/) (collection of ready-made objects and functions) for scientific computing\n",
    "* Design based on MatLab\n",
    "* In some ways similar to using basic Python\n",
    "* In others, very different from basic Python\n",
    "* Important understand the differences and make use of them!"
   ]
  },
  {
   "cell_type": "markdown",
   "metadata": {},
   "source": [
    "### Creating Arrays"
   ]
  },
  {
   "cell_type": "code",
   "execution_count": 4,
   "metadata": {},
   "outputs": [],
   "source": [
    "# import what we need\n",
    "import numpy as np\n",
    "import time"
   ]
  },
  {
   "cell_type": "code",
   "execution_count": 32,
   "metadata": {},
   "outputs": [
    {
     "name": "stdout",
     "output_type": "stream",
     "text": [
      "[1 2 3]\n",
      "Shape: (3,)\n",
      "\n",
      "[[1 2]\n",
      " [3 4]]\n",
      "Shape: (2, 2)\n",
      "\n",
      "[[[ 1  2]\n",
      "  [ 3  4]]\n",
      "\n",
      " [[ 5  6]\n",
      "  [ 7  8]]\n",
      "\n",
      " [[ 9 10]\n",
      "  [11 12]]]\n",
      "Shape: (3, 2, 2)\n"
     ]
    }
   ],
   "source": [
    "# basic object in numpy: n-dimensional arrays\n",
    "# can be created from lists\n",
    "array1D = np.array([1, 2, 3])\n",
    "array2D = np.array([[1, 2], [3, 4]])\n",
    "array3D = np.array([[[1, 2,], [3, 4]], [[5, 6], [7, 8]], [[9, 10], [11, 12]]])\n",
    "\n",
    "print(array1D)\n",
    "print(\"Shape:\", array1D.shape)\n",
    "print()\n",
    "print(array2D)\n",
    "print(\"Shape:\", array2D.shape)\n",
    "print()\n",
    "print(array3D)\n",
    "print(\"Shape:\", array3D.shape)"
   ]
  },
  {
   "cell_type": "code",
   "execution_count": 33,
   "metadata": {},
   "outputs": [
    {
     "name": "stdout",
     "output_type": "stream",
     "text": [
      "[0 1 2 3 4 5 6 7 8 9]\n",
      "\n",
      "[[0. 0. 0.]\n",
      " [0. 0. 0.]\n",
      " [0. 0. 0.]]\n",
      "\n",
      "[[[1. 1. 1.]\n",
      "  [1. 1. 1.]\n",
      "  [1. 1. 1.]]\n",
      "\n",
      " [[1. 1. 1.]\n",
      "  [1. 1. 1.]\n",
      "  [1. 1. 1.]]\n",
      "\n",
      " [[1. 1. 1.]\n",
      "  [1. 1. 1.]\n",
      "  [1. 1. 1.]]]\n"
     ]
    }
   ],
   "source": [
    "# more ways to create arrays\n",
    "# arange\n",
    "another_array1D = np.arange(10)\n",
    "print(another_array1D)\n",
    "\n",
    "# zeros\n",
    "another_array2D = np.zeros([3, 3])\n",
    "print()\n",
    "print(another_array2D)\n",
    "\n",
    "# ones\n",
    "another_array3D = np.ones([3, 3, 3])\n",
    "print()\n",
    "print(another_array3D)"
   ]
  },
  {
   "cell_type": "markdown",
   "metadata": {},
   "source": [
    "### Indexing Arrays"
   ]
  },
  {
   "cell_type": "code",
   "execution_count": 35,
   "metadata": {},
   "outputs": [
    {
     "name": "stdout",
     "output_type": "stream",
     "text": [
      "Single array element: 1\n",
      "Slicing: [[1 2]\n",
      " [4 5]]\n",
      "[[False False False]\n",
      " [ True  True  True]]\n",
      "Boolean indexing: [4 5 6]\n",
      "Fancy indexing: [2 6]\n"
     ]
    }
   ],
   "source": [
    "# This cell was created by Google's Bard (LLM) with the following prompt:\n",
    "# \"Please create some code in Python with basic examples of the various ways to \n",
    "# index arrays in numpy, and add brief but explanatory comments where necessary\"\n",
    "\n",
    "# Create a 2D array\n",
    "arr = np.array([[1, 2, 3], [4, 5, 6]])\n",
    "\n",
    "# Single array element\n",
    "# This will print the element at index (0, 0), which is 1.\n",
    "print('Single array element:', arr[0, 0])  \n",
    "\n",
    "# Slicing\n",
    "# This will print the elements from index (0, 0) to index (1, 1), \n",
    "# which is the subarray [[1, 2], [4, 5]].\n",
    "print('Slicing:', arr[0:2, 0:2])  \n",
    "\n",
    "# Boolean indexing\n",
    "# This will print the elements in the array that are greater than 3,\n",
    "# which is [4, 5, 6].\n",
    "print(arr > 3) # output is boolean array, same size as arr\n",
    "print('Boolean indexing:', arr[arr > 3])  \n",
    "\n",
    "# Fancy indexing\n",
    "# This will print the elements at the indices (0, 1) and (1, 2), \n",
    "# which is [2, 6].\n",
    "print('Fancy indexing:', arr[[0, 1], [1, 2]])  \n"
   ]
  },
  {
   "cell_type": "code",
   "execution_count": 36,
   "metadata": {},
   "outputs": [
    {
     "name": "stdout",
     "output_type": "stream",
     "text": [
      "His Array\n",
      "[[1 2 3]\n",
      " [4 5 6]]\n",
      "\n",
      "Slicing:\n",
      " [[1 2]\n",
      " [4 5]]\n",
      "\n",
      "Slicing:\n",
      " [[1 2 3]\n",
      " [4 5 6]]\n",
      "\n",
      "Slicing:\n",
      " [[1 2]\n",
      " [4 5]]\n",
      "\n"
     ]
    }
   ],
   "source": [
    "# let's elaborate on Bard's output, shall we?\n",
    "# slicing tells us the range of rows and range of colums to use\n",
    "# Bard's example\n",
    "his_array = np.array([[1, 2, 3], [4, 5, 6]])\n",
    "print(\"His Array\")\n",
    "print(his_array)\n",
    "print()\n",
    "print('Slicing:\\n', arr[0:2, 0:2])  \n",
    "print()\n",
    "\n",
    "# we can also specify a subset of rows and all columns\n",
    "print('Slicing:\\n', arr[0:2, :])  \n",
    "print()\n",
    "\n",
    "# or viceversa\n",
    "print('Slicing:\\n', arr[:, 0:2])  \n",
    "print()"
   ]
  },
  {
   "cell_type": "code",
   "execution_count": 37,
   "metadata": {},
   "outputs": [
    {
     "name": "stdout",
     "output_type": "stream",
     "text": [
      "Predictions\n",
      "[1 1 1 0 0 0 1 0 0 1 1]\n",
      "\n",
      "How many predictions of the positive class?\n",
      "6\n",
      "\n",
      "Give me the corresponding examples, please!\n",
      "['a' 'b' 'c' 'h' 'k' 'm']\n"
     ]
    }
   ],
   "source": [
    "# boolean indexing can be useful with relevant conditions \n",
    "examples = np.array([\"a\", \"b\", \"c\", \"d\", \"f\", \"g\", \"h\", \"i\", \"j\", \"k\", \"m\"])\n",
    "predictions = np.array([1, 1, 1, 0, 0, 0, 1, 0, 0, 1, 1])\n",
    "positive_class_predictions = predictions[predictions == 1]\n",
    "\n",
    "print(\"Predictions\")\n",
    "print(predictions)\n",
    "print()\n",
    "print(\"How many predictions of the positive class?\")\n",
    "print(len(positive_class_predictions))\n",
    "print()\n",
    "print(\"Give me the corresponding examples, please!\")\n",
    "print(examples[predictions == 1])"
   ]
  },
  {
   "cell_type": "markdown",
   "metadata": {},
   "source": [
    "### Operations with Numpy Arrays\n",
    "\n",
    "We look at some basic operations here, and leave the more mathematical ones for\n",
    "later when we look at PyTorch basics."
   ]
  },
  {
   "cell_type": "code",
   "execution_count": 38,
   "metadata": {},
   "outputs": [
    {
     "name": "stdout",
     "output_type": "stream",
     "text": [
      "[[0 1 2]\n",
      " [3 4 5]\n",
      " [6 7 8]]\n",
      "\n",
      "Scalar product\n",
      "[[ 0  2  4]\n",
      " [ 6  8 10]\n",
      " [12 14 16]]\n",
      "\n",
      "Scalar product\n",
      "[[ 0  3  6]\n",
      " [ 9 12 15]\n",
      " [18 21 24]]\n"
     ]
    }
   ],
   "source": [
    "# many operations are by default applied element-wise\n",
    "some_array = np.arange(9).reshape([3,3])\n",
    "print(some_array)\n",
    "\n",
    "# scalar product\n",
    "print()\n",
    "print(\"Scalar product\")\n",
    "print(some_array * 2)\n",
    "\n",
    "# scalar product\n",
    "print()\n",
    "print(\"Scalar product\")\n",
    "print(some_array * 3)\n"
   ]
  },
  {
   "cell_type": "markdown",
   "metadata": {},
   "source": [
    "Some of the code from the following cells was created by Google's Bard with\n",
    "the following prompt, which followed the prompt mentioned above:\n",
    "\"Great, now do the same but for basic operations that one can do with numpy \n",
    "arrays\""
   ]
  },
  {
   "cell_type": "code",
   "execution_count": 39,
   "metadata": {},
   "outputs": [
    {
     "name": "stdout",
     "output_type": "stream",
     "text": [
      "[5 7 9]\n",
      "[-3 -3 -3]\n",
      "[ 4 10 18]\n",
      "[0.25 0.4  0.5 ]\n",
      "[1 4 9]\n"
     ]
    }
   ],
   "source": [
    "# Arithmetic operations: You can perform arithmetic operations on NumPy arrays, \n",
    "# such as addition, subtraction, multiplication, division, and exponentiation. \n",
    "# For example:\n",
    "arr1 = np.array([1, 2, 3])\n",
    "arr2 = np.array([4, 5, 6])\n",
    "\n",
    "print(arr1 + arr2)  # Addition\n",
    "print(arr1 - arr2)  # Subtraction\n",
    "print(arr1 * arr2)  # Multiplication\n",
    "print(arr1 / arr2)  # Division\n",
    "print(arr1 ** 2)    # Exponentiation\n",
    "\n",
    "# note that operands must satisfy basic operation's constraints, e.g. same shape"
   ]
  },
  {
   "cell_type": "code",
   "execution_count": 40,
   "metadata": {},
   "outputs": [
    {
     "name": "stdout",
     "output_type": "stream",
     "text": [
      "15\n",
      "3.0\n",
      "1.4142135623730951\n",
      "1\n",
      "5\n"
     ]
    }
   ],
   "source": [
    "# Aggregation operations: These operations calculate summary statistics of the \n",
    "# array elements, such as the sum, mean, standard deviation, minimum, and \n",
    "# maximum. For example:\n",
    "arr = np.array([1, 2, 3, 4, 5])\n",
    "\n",
    "print(np.sum(arr))  # Sum of all elements\n",
    "print(np.mean(arr))  # Mean of all elements\n",
    "print(np.std(arr))  # Standard deviation of all elements\n",
    "print(np.min(arr))  # Minimum element\n",
    "print(np.max(arr))  # Maximum element\n"
   ]
  },
  {
   "cell_type": "code",
   "execution_count": 41,
   "metadata": {},
   "outputs": [
    {
     "name": "stdout",
     "output_type": "stream",
     "text": [
      "[ True  True  True]\n",
      "[False False False]\n"
     ]
    }
   ],
   "source": [
    "# Comparison operations: You can compare NumPy arrays to each other using the \n",
    "# standard comparison operators, such as <, >, ==, !=, <=, and >=. For example:\n",
    "arr1 = np.array([1, 2, 3])\n",
    "arr2 = np.array([4, 5, 6])\n",
    "\n",
    "# Check if each element of arr1 is less than the corresponding element of arr2\n",
    "print(arr1 < arr2)  \n",
    "# Check if each element of arr1 is equal to the corresponding element of arr2\n",
    "print(arr1 == arr2)"
   ]
  },
  {
   "cell_type": "code",
   "execution_count": 43,
   "metadata": {},
   "outputs": [
    {
     "name": "stdout",
     "output_type": "stream",
     "text": [
      "[1 2 3 4 5]\n",
      "[1 2 0 4 3]\n"
     ]
    }
   ],
   "source": [
    "# Sorting: You can sort a NumPy array, either by the values of the elements or \n",
    "# by the indices of the elements. For example:\n",
    "arr = np.array([3, 1, 2, 5, 4])\n",
    "\n",
    "print(np.sort(arr))  # Sort the array by the values of the elements\n",
    "print(np.argsort(arr))  # Sort the array by the indices of the elements"
   ]
  },
  {
   "cell_type": "markdown",
   "metadata": {},
   "source": [
    "## Why use Numpy? Vectorized Computations\n",
    "\n",
    "### The simplest example: vector addition"
   ]
  },
  {
   "cell_type": "code",
   "execution_count": 44,
   "metadata": {},
   "outputs": [],
   "source": [
    "# define function to create two random vectors of given length\n",
    "def create_vectors(length=5, range_=5):    \n",
    "    \"\"\" \n",
    "    Creates two random vectors of size length_ \n",
    "    Vector elements are integers in interval [0, range_)\n",
    "    \"\"\"\n",
    "    a = np.random.randint(range_, size=length)\n",
    "    b = np.random.randint(range_, size=length)\n",
    "    return a, b "
   ]
  },
  {
   "cell_type": "code",
   "execution_count": 45,
   "metadata": {},
   "outputs": [],
   "source": [
    "# define function to naively compute vector addition\n",
    "def naive_vector_addition(a, b):\n",
    "    \"\"\" Returns addition of input vectors a and b as as a new vector \"\"\"\n",
    "    assert len(a) == len(b)\n",
    "    c = np.copy(a)\n",
    "    for i in range(len(a)):\n",
    "        c[i] += b[i]\n",
    "    return c"
   ]
  },
  {
   "cell_type": "code",
   "execution_count": 46,
   "metadata": {
    "scrolled": true
   },
   "outputs": [
    {
     "name": "stdout",
     "output_type": "stream",
     "text": [
      "a:      [3 1 3 3 0]\n",
      "b:      [2 0 3 2 1]\n",
      "a + b:  [5 1 6 5 1]\n"
     ]
    }
   ],
   "source": [
    "# test naive addition\n",
    "a, b = create_vectors()\n",
    "naive_output = naive_vector_addition(a, b)\n",
    "print(\"a:     \", a)\n",
    "print(\"b:     \", b)\n",
    "print(\"a + b: \", naive_output)"
   ]
  },
  {
   "cell_type": "code",
   "execution_count": 48,
   "metadata": {},
   "outputs": [],
   "source": [
    "# vectorized addition\n",
    "def vectorized_addition(a, b):\n",
    "    \"\"\" Returns addition of input vectors a and b as as a new vector \"\"\"\n",
    "    assert len(a) == len(b)\n",
    "    return a + b"
   ]
  },
  {
   "cell_type": "code",
   "execution_count": 49,
   "metadata": {},
   "outputs": [
    {
     "name": "stdout",
     "output_type": "stream",
     "text": [
      "a:      [3 1 3 3 0]\n",
      "b:      [2 0 3 2 1]\n",
      "a + b:  [5 1 6 5 1]\n"
     ]
    }
   ],
   "source": [
    "# test vectorized addition\n",
    "vectorized_output = vectorized_addition(a, b)\n",
    "print(\"a:     \", a)\n",
    "print(\"b:     \", b)\n",
    "print(\"a + b: \", vectorized_output)"
   ]
  },
  {
   "cell_type": "code",
   "execution_count": 50,
   "metadata": {},
   "outputs": [
    {
     "name": "stdout",
     "output_type": "stream",
     "text": [
      "[ True  True  True  True  True]\n"
     ]
    }
   ],
   "source": [
    "# are outputs the same?\n",
    "print(naive_output == vectorized_output)"
   ]
  },
  {
   "cell_type": "code",
   "execution_count": 56,
   "metadata": {},
   "outputs": [
    {
     "name": "stdout",
     "output_type": "stream",
     "text": [
      "Naive:        16.57202696800232\n",
      "Vectorized:    0.36727094650268555\n"
     ]
    }
   ],
   "source": [
    "# why bother then? try different lengths\n",
    "length = 100000000\n",
    "a, b = create_vectors(length)\n",
    "start_time = time.time()\n",
    "naive_vector_addition(a, b)\n",
    "end_time = time.time()\n",
    "print(\"Naive:       \", end_time - start_time)\n",
    "\n",
    "start_time = time.time()\n",
    "vectorized_addition(a, b)\n",
    "end_time = time.time()\n",
    "print(\"Vectorized:   \", end_time - start_time)"
   ]
  },
  {
   "cell_type": "markdown",
   "metadata": {},
   "source": [
    "### A more realistic example"
   ]
  },
  {
   "cell_type": "code",
   "execution_count": 59,
   "metadata": {},
   "outputs": [],
   "source": [
    "# define function to create random data\n",
    "def create_data(num_examples=1000, size_=10, range_=5):\n",
    "    \"\"\" \n",
    "    Creates random dataset of shape (num_examples, size_) \n",
    "    Data is set of integers in interval [0, range_)\n",
    "    \"\"\" \n",
    "    return np.random.randint(range_, size=(num_examples, size_))"
   ]
  },
  {
   "cell_type": "code",
   "execution_count": null,
   "metadata": {},
   "outputs": [],
   "source": [
    "# define random linear regression model with naive and vectorized prediction \n",
    "# methods\n",
    "class LRModel():\n",
    "    \"\"\" Linear regression model class \"\"\"\n",
    "    def __init__(self, size_=10, range_=5):\n",
    "        \"\"\" \n",
    "        Randomly initializes model of given size\n",
    "        Weights and bias are integers in interval [0, range_)\n",
    "        \"\"\"\n",
    "        self.weights = np.random.randint(range_, size=size_)\n",
    "        self.bias = np.random.randint(range_, size=1)\n",
    "        \n",
    "    def stubborn_predict(self, data):\n",
    "        \"\"\" Naive implementation of applying model to given data \"\"\"\n",
    "        predictions = np.zeros(len(data))\n",
    "        \n",
    "        # iterate over examples\n",
    "        # for i in range(len(data)):\n",
    "        for i in range(n):\n",
    "            # iterate over features\n",
    "            for j in range(d):\n",
    "                predictions[i] += self.weights[j] * data[i, j]\n",
    "            predictions[i] += self.bias\n",
    "        return predictions\n",
    "\n",
    "    def vectorized_predict(self, data):\n",
    "        \"\"\" Vectorized implementation of applying model to given data \"\"\"\n",
    "        return np.matmul(data, self.weights) + self.bias"
   ]
  },
  {
   "cell_type": "code",
   "execution_count": 60,
   "metadata": {
    "scrolled": true
   },
   "outputs": [],
   "source": [
    "# let's try linear regression on n training examples of size d\n",
    "# create random data\n",
    "n = 1000\n",
    "d = 10\n",
    "data = create_data(n, d)\n",
    "\n",
    "# create random model\n",
    "model = LRModel(d)"
   ]
  },
  {
   "cell_type": "code",
   "execution_count": 61,
   "metadata": {},
   "outputs": [
    {
     "name": "stdout",
     "output_type": "stream",
     "text": [
      "(1000,)\n"
     ]
    },
    {
     "name": "stderr",
     "output_type": "stream",
     "text": [
      "/tmp/ipykernel_6541/3254483671.py:23: DeprecationWarning: Conversion of an array with ndim > 0 to a scalar is deprecated, and will error in future. Ensure you extract a single element from your array before performing this operation. (Deprecated NumPy 1.25.)\n",
      "  predictions[i] += self.bias\n"
     ]
    }
   ],
   "source": [
    "# naive prediction\n",
    "naive_predictions = model.naive_predict(data)\n",
    "print(naive_predictions.shape)"
   ]
  },
  {
   "cell_type": "code",
   "execution_count": 62,
   "metadata": {},
   "outputs": [
    {
     "name": "stdout",
     "output_type": "stream",
     "text": [
      "(1000,)\n"
     ]
    }
   ],
   "source": [
    "# vectorized prediction\n",
    "vectorized_predictions = model.vectorized_predict(data)\n",
    "print(vectorized_predictions.shape)"
   ]
  },
  {
   "cell_type": "code",
   "execution_count": 63,
   "metadata": {
    "scrolled": true
   },
   "outputs": [
    {
     "name": "stdout",
     "output_type": "stream",
     "text": [
      "[ True  True  True  True  True  True  True  True  True  True  True  True\n",
      "  True  True  True  True  True  True  True  True  True  True  True  True\n",
      "  True  True  True  True  True  True  True  True  True  True  True  True\n",
      "  True  True  True  True  True  True  True  True  True  True  True  True\n",
      "  True  True  True  True  True  True  True  True  True  True  True  True\n",
      "  True  True  True  True  True  True  True  True  True  True  True  True\n",
      "  True  True  True  True  True  True  True  True  True  True  True  True\n",
      "  True  True  True  True  True  True  True  True  True  True  True  True\n",
      "  True  True  True  True  True  True  True  True  True  True  True  True\n",
      "  True  True  True  True  True  True  True  True  True  True  True  True\n",
      "  True  True  True  True  True  True  True  True  True  True  True  True\n",
      "  True  True  True  True  True  True  True  True  True  True  True  True\n",
      "  True  True  True  True  True  True  True  True  True  True  True  True\n",
      "  True  True  True  True  True  True  True  True  True  True  True  True\n",
      "  True  True  True  True  True  True  True  True  True  True  True  True\n",
      "  True  True  True  True  True  True  True  True  True  True  True  True\n",
      "  True  True  True  True  True  True  True  True  True  True  True  True\n",
      "  True  True  True  True  True  True  True  True  True  True  True  True\n",
      "  True  True  True  True  True  True  True  True  True  True  True  True\n",
      "  True  True  True  True  True  True  True  True  True  True  True  True\n",
      "  True  True  True  True  True  True  True  True  True  True  True  True\n",
      "  True  True  True  True  True  True  True  True  True  True  True  True\n",
      "  True  True  True  True  True  True  True  True  True  True  True  True\n",
      "  True  True  True  True  True  True  True  True  True  True  True  True\n",
      "  True  True  True  True  True  True  True  True  True  True  True  True\n",
      "  True  True  True  True  True  True  True  True  True  True  True  True\n",
      "  True  True  True  True  True  True  True  True  True  True  True  True\n",
      "  True  True  True  True  True  True  True  True  True  True  True  True\n",
      "  True  True  True  True  True  True  True  True  True  True  True  True\n",
      "  True  True  True  True  True  True  True  True  True  True  True  True\n",
      "  True  True  True  True  True  True  True  True  True  True  True  True\n",
      "  True  True  True  True  True  True  True  True  True  True  True  True\n",
      "  True  True  True  True  True  True  True  True  True  True  True  True\n",
      "  True  True  True  True  True  True  True  True  True  True  True  True\n",
      "  True  True  True  True  True  True  True  True  True  True  True  True\n",
      "  True  True  True  True  True  True  True  True  True  True  True  True\n",
      "  True  True  True  True  True  True  True  True  True  True  True  True\n",
      "  True  True  True  True  True  True  True  True  True  True  True  True\n",
      "  True  True  True  True  True  True  True  True  True  True  True  True\n",
      "  True  True  True  True  True  True  True  True  True  True  True  True\n",
      "  True  True  True  True  True  True  True  True  True  True  True  True\n",
      "  True  True  True  True  True  True  True  True  True  True  True  True\n",
      "  True  True  True  True  True  True  True  True  True  True  True  True\n",
      "  True  True  True  True  True  True  True  True  True  True  True  True\n",
      "  True  True  True  True  True  True  True  True  True  True  True  True\n",
      "  True  True  True  True  True  True  True  True  True  True  True  True\n",
      "  True  True  True  True  True  True  True  True  True  True  True  True\n",
      "  True  True  True  True  True  True  True  True  True  True  True  True\n",
      "  True  True  True  True  True  True  True  True  True  True  True  True\n",
      "  True  True  True  True  True  True  True  True  True  True  True  True\n",
      "  True  True  True  True  True  True  True  True  True  True  True  True\n",
      "  True  True  True  True  True  True  True  True  True  True  True  True\n",
      "  True  True  True  True  True  True  True  True  True  True  True  True\n",
      "  True  True  True  True  True  True  True  True  True  True  True  True\n",
      "  True  True  True  True  True  True  True  True  True  True  True  True\n",
      "  True  True  True  True  True  True  True  True  True  True  True  True\n",
      "  True  True  True  True  True  True  True  True  True  True  True  True\n",
      "  True  True  True  True  True  True  True  True  True  True  True  True\n",
      "  True  True  True  True  True  True  True  True  True  True  True  True\n",
      "  True  True  True  True  True  True  True  True  True  True  True  True\n",
      "  True  True  True  True  True  True  True  True  True  True  True  True\n",
      "  True  True  True  True  True  True  True  True  True  True  True  True\n",
      "  True  True  True  True  True  True  True  True  True  True  True  True\n",
      "  True  True  True  True  True  True  True  True  True  True  True  True\n",
      "  True  True  True  True  True  True  True  True  True  True  True  True\n",
      "  True  True  True  True  True  True  True  True  True  True  True  True\n",
      "  True  True  True  True  True  True  True  True  True  True  True  True\n",
      "  True  True  True  True  True  True  True  True  True  True  True  True\n",
      "  True  True  True  True  True  True  True  True  True  True  True  True\n",
      "  True  True  True  True  True  True  True  True  True  True  True  True\n",
      "  True  True  True  True  True  True  True  True  True  True  True  True\n",
      "  True  True  True  True  True  True  True  True  True  True  True  True\n",
      "  True  True  True  True  True  True  True  True  True  True  True  True\n",
      "  True  True  True  True  True  True  True  True  True  True  True  True\n",
      "  True  True  True  True  True  True  True  True  True  True  True  True\n",
      "  True  True  True  True  True  True  True  True  True  True  True  True\n",
      "  True  True  True  True  True  True  True  True  True  True  True  True\n",
      "  True  True  True  True  True  True  True  True  True  True  True  True\n",
      "  True  True  True  True  True  True  True  True  True  True  True  True\n",
      "  True  True  True  True  True  True  True  True  True  True  True  True\n",
      "  True  True  True  True  True  True  True  True  True  True  True  True\n",
      "  True  True  True  True  True  True  True  True  True  True  True  True\n",
      "  True  True  True  True  True  True  True  True  True  True  True  True\n",
      "  True  True  True  True]\n"
     ]
    }
   ],
   "source": [
    "# are they the same?\n",
    "print(naive_predictions == vectorized_predictions)"
   ]
  },
  {
   "cell_type": "code",
   "execution_count": 67,
   "metadata": {},
   "outputs": [
    {
     "name": "stderr",
     "output_type": "stream",
     "text": [
      "/tmp/ipykernel_6541/3254483671.py:23: DeprecationWarning: Conversion of an array with ndim > 0 to a scalar is deprecated, and will error in future. Ensure you extract a single element from your array before performing this operation. (Deprecated NumPy 1.25.)\n",
      "  predictions[i] += self.bias\n"
     ]
    },
    {
     "name": "stdout",
     "output_type": "stream",
     "text": [
      "Naive:        48.8154456615448\n",
      "Vectorized:    0.12885212898254395\n"
     ]
    }
   ],
   "source": [
    "# why bother then?\n",
    "n = 10000000\n",
    "d = 10\n",
    "data = create_data(n, d)\n",
    "model = LRModel(d)\n",
    "start_time = time.time()\n",
    "naive_predictions = model.naive_predict(data)\n",
    "end_time = time.time()\n",
    "print(\"Naive:       \", end_time - start_time)\n",
    "\n",
    "start_time = time.time()\n",
    "vectorized_predictions = model.vectorized_predict(data)\n",
    "end_time = time.time()\n",
    "print(\"Vectorized:   \", end_time - start_time)"
   ]
  },
  {
   "cell_type": "markdown",
   "metadata": {},
   "source": [
    "### We cannot avoid all loops..."
   ]
  },
  {
   "cell_type": "markdown",
   "metadata": {},
   "source": [
    "* Can't avoid looping over epochs\n",
    "* Can't avoid looping over batches\n",
    "* Why not? Important things are computed in between (you'll see)\n",
    "* This does not mean loops aren't taking place, they are but at a lower and more efficient level"
   ]
  },
  {
   "cell_type": "markdown",
   "metadata": {},
   "source": [
    "### An important way to avoid loops: broadcasting"
   ]
  },
  {
   "cell_type": "markdown",
   "metadata": {},
   "source": [
    "[Broadcasting](https://numpy.org/doc/stable/user/basics.broadcasting.html) fundamentals. Key points:\n",
    "\n",
    "* Allows operations between arrays of different sizes.\n",
    "* Dimensions are read from right to left.\n",
    "* Two dimensions are compatible when they are equal, or one of them is 1, or when one of them is missing.\n",
    "* Dimensions with size 1 (or missing) are stretched or “copied” to match the other.\n",
    "* The smaller array is “broadcasted” across the larger array so they have compatible shapes. \n",
    "* Broadcasting provides a means of vectorizing array operations so that looping occurs in C instead of Python."
   ]
  },
  {
   "cell_type": "code",
   "execution_count": 68,
   "metadata": {},
   "outputs": [
    {
     "name": "stdout",
     "output_type": "stream",
     "text": [
      "[0 1 2 3]\n",
      "(4,)\n"
     ]
    }
   ],
   "source": [
    "x = np.arange(4)\n",
    "print(x)\n",
    "print(x.shape)"
   ]
  },
  {
   "cell_type": "code",
   "execution_count": 69,
   "metadata": {},
   "outputs": [
    {
     "name": "stdout",
     "output_type": "stream",
     "text": [
      "[1. 1. 1. 1. 1.]\n",
      "(5,)\n"
     ]
    }
   ],
   "source": [
    "y = np.ones(5)\n",
    "print(y)\n",
    "print(y.shape)"
   ]
  },
  {
   "cell_type": "code",
   "execution_count": 70,
   "metadata": {},
   "outputs": [
    {
     "ename": "ValueError",
     "evalue": "operands could not be broadcast together with shapes (4,) (5,) ",
     "output_type": "error",
     "traceback": [
      "\u001b[0;31m---------------------------------------------------------------------------\u001b[0m",
      "\u001b[0;31mValueError\u001b[0m                                Traceback (most recent call last)",
      "Cell \u001b[0;32mIn[70], line 2\u001b[0m\n\u001b[1;32m      1\u001b[0m \u001b[38;5;66;03m# error\u001b[39;00m\n\u001b[0;32m----> 2\u001b[0m \u001b[43mx\u001b[49m\u001b[43m \u001b[49m\u001b[38;5;241;43m+\u001b[39;49m\u001b[43m \u001b[49m\u001b[43my\u001b[49m\n",
      "\u001b[0;31mValueError\u001b[0m: operands could not be broadcast together with shapes (4,) (5,) "
     ]
    }
   ],
   "source": [
    "# error\n",
    "x + y"
   ]
  },
  {
   "cell_type": "code",
   "execution_count": 71,
   "metadata": {},
   "outputs": [
    {
     "name": "stdout",
     "output_type": "stream",
     "text": [
      "[[0]\n",
      " [1]\n",
      " [2]\n",
      " [3]]\n",
      "(4, 1)\n"
     ]
    }
   ],
   "source": [
    "# reshape into broadcastable shape\n",
    "x2 = x.reshape(4,1)\n",
    "print(x2)\n",
    "print(x2.shape)"
   ]
  },
  {
   "cell_type": "code",
   "execution_count": 72,
   "metadata": {},
   "outputs": [
    {
     "name": "stdout",
     "output_type": "stream",
     "text": [
      "[[1. 1. 1. 1. 1.]\n",
      " [2. 2. 2. 2. 2.]\n",
      " [3. 3. 3. 3. 3.]\n",
      " [4. 4. 4. 4. 4.]]\n",
      "(4, 5)\n"
     ]
    }
   ],
   "source": [
    "# broadcast! \n",
    "# y is size (5), x2 is size (4, 1)\n",
    "# Comparing from the right, you have \n",
    "# (4, 1)\n",
    "# (   5)\n",
    "# The rightmost dimensions meet broadcasting requirement.\n",
    "# So, the single column in x2 is broadcasted across 2nd axis to \n",
    "# match the single dimension of y, producing a 4x5 matrix.\n",
    "# Now we have an intermediate operation of summing row vector y of\n",
    "# size (5) with matrix of shape (4, 5).\n",
    "# The operation is then done 4 times, one for each row in x2\n",
    "# i.e, row vector y is added to each row in this matrix\n",
    "print(x2 + y)\n",
    "print((x2 + y).shape)"
   ]
  },
  {
   "cell_type": "code",
   "execution_count": 73,
   "metadata": {},
   "outputs": [
    {
     "name": "stdout",
     "output_type": "stream",
     "text": [
      "[[1. 1. 1.]\n",
      " [1. 1. 1.]\n",
      " [1. 1. 1.]]\n",
      "(3, 3)\n",
      "\n",
      "[2 3 4]\n",
      "(3,)\n"
     ]
    }
   ],
   "source": [
    "# a more concrete example\n",
    "mat = np.ones([3, 3])\n",
    "vec = np.arange(2, 5)\n",
    "\n",
    "print(mat)\n",
    "print(mat.shape)\n",
    "print()\n",
    "print(vec)\n",
    "print(vec.shape)"
   ]
  },
  {
   "cell_type": "code",
   "execution_count": 74,
   "metadata": {},
   "outputs": [
    {
     "name": "stdout",
     "output_type": "stream",
     "text": [
      "[[3. 4. 5.]\n",
      " [3. 4. 5.]\n",
      " [3. 4. 5.]]\n",
      "(3, 3)\n",
      "(3,)\n"
     ]
    }
   ],
   "source": [
    "# what happened here? \n",
    "# mat was created as a 1x3 vector (missing dim).\n",
    "# So vec was broadcaster across the leftmost dim of mat (i.e. the rows)\n",
    "print(mat + vec)\n",
    "print(mat.shape)\n",
    "print(vec.shape)"
   ]
  },
  {
   "cell_type": "code",
   "execution_count": 76,
   "metadata": {},
   "outputs": [
    {
     "name": "stdout",
     "output_type": "stream",
     "text": [
      "[[3. 3. 3.]\n",
      " [4. 4. 4.]\n",
      " [5. 5. 5.]]\n"
     ]
    }
   ],
   "source": [
    "# Can we broadcast vec in the other dimension of mat?\n",
    "# Yes! Reshape so rightmost dim is the one broadcasting.\n",
    "vec2 = vec.reshape(3, 1)\n",
    "print(mat + vec2)"
   ]
  },
  {
   "cell_type": "markdown",
   "metadata": {},
   "source": [
    "### Moral of the story\n",
    "\n",
    "* Learn to code in vectorized form\n",
    "* Stick to using the efficient operations provided by libraries such as [numpy](https://numpy.org/doc/), [PyTorch](https://pytorch.org/docs/stable/index.html) or [Tensorflow](https://www.tensorflow.org/api_docs) "
   ]
  },
  {
   "cell_type": "markdown",
   "metadata": {},
   "source": [
    "## How to Navigate Code\n",
    "\n",
    "* Learn to use an IDE or editor, such as PyCharm or VSCode, respectively.\n",
    "* IDEs vs Editors\n",
    "    * IDEs: heavy but feature-rich, usually easier to configurate, maintain\n",
    "    * Editors: lightweight but generally more costly to maintain (plugins)\n",
    "* Why learn about these tools?\n",
    "    * Coding becomes much more enjoyable.\n",
    "    * Why? From basic autocomplete, to navigating code easily.\n",
    "        * \"Go to Definition\"\n",
    "        * \"Find usages\"\n",
    "        * \"Back/Forward\"\n",
    "        * \"Refactor\"\n",
    "    * Generally, plugins for everything: git, linting, any language you want."
   ]
  },
  {
   "cell_type": "markdown",
   "metadata": {},
   "source": [
    "## Python Distributions\n",
    "\n",
    "* What are these? \n",
    "    * Software bundle that includes Python interpreter, standard library, \n",
    "    package manager\n",
    "* Package managers are essential for installing new libraries for data science\n",
    "    * PIP: includes Python libraries, recommended for pure Python projects\n",
    "    * Conda: additionally includes C libraries and executables, recommended for \n",
    "    projects requiring different Python versions, complex binary dependencies"
   ]
  },
  {
   "cell_type": "markdown",
   "metadata": {},
   "source": [
    "## Python Environments\n",
    "\n",
    "* Super important concept that you want to learn about and use regularly!\n",
    "* *Python environment:* isolation of a Python interpreter, library and installed \n",
    "scripts\n",
    "* *Why important?* \n",
    "    * Different projects may require different libraries, or different versions \n",
    "    of the same library, which may not be compatible.\n",
    "    * Often installing one new library or project may break other existing \n",
    "    projects.\n",
    "    * Creating a new environment for each project solves this annoying issue!\n",
    "    * I use conda environments, but pip can also be used for this with virtualenv."
   ]
  },
  {
   "cell_type": "markdown",
   "metadata": {},
   "source": [
    "## PyTorch\n",
    "\n",
    "* Python library for deep learning, developed by Facebook.\n",
    "* Similar to tensorflow, developed by Google.\n",
    "* Main object in PyTorch: tensors\n",
    "* Tensors are similar to numpy arrays in many ways.\n",
    "* But they are different in fundamental ways: \n",
    "    1. They support automatic gradient computations (crucial for training \n",
    "    models)\n",
    "    2. They support the use of GPUs for computations (much more efficient)\n",
    "\n",
    "* To install, go [here](https://pytorch.org/), set the settings to the system \n",
    "you have, and run the given command."
   ]
  },
  {
   "cell_type": "code",
   "execution_count": 2,
   "metadata": {},
   "outputs": [],
   "source": [
    "import torch"
   ]
  },
  {
   "cell_type": "markdown",
   "metadata": {},
   "source": [
    "### Tensor Creation"
   ]
  },
  {
   "cell_type": "code",
   "execution_count": 5,
   "metadata": {},
   "outputs": [
    {
     "name": "stdout",
     "output_type": "stream",
     "text": [
      "tensor([1, 2, 3])\n",
      "\n",
      "tensor([1, 2, 3])\n",
      "\n",
      "tensor([[0.1325, 0.9660],\n",
      "        [0.1307, 0.9019],\n",
      "        [0.8212, 0.2782]])\n",
      "\n",
      "tensor([[0., 0.],\n",
      "        [0., 0.],\n",
      "        [0., 0.]])\n",
      "\n",
      "tensor([[1., 1.],\n",
      "        [1., 1.],\n",
      "        [1., 1.]])\n"
     ]
    }
   ],
   "source": [
    "# Again, adapting from Google's Bard. The following prompt did not work:\n",
    "# \"Let's keep going, now basic forms of creating torch tensors\"\n",
    "# So I made it more clear again:\n",
    "# \"Let's keep going. Now create examples in Python for different ways to create \n",
    "# tensors with PyTorch. Don't forget to put brief but useful comments for each \n",
    "# example\"\n",
    "\n",
    "# This creates a 1D tensor with the same data as the Python list.\n",
    "list_data = [1, 2, 3]\n",
    "tensor = torch.tensor(list_data)\n",
    "print(tensor)\n",
    "\n",
    "# This creates a tensor with the same data as the NumPy array.\n",
    "np_array = np.array([1, 2, 3])\n",
    "tensor = torch.from_numpy(np_array)\n",
    "print()\n",
    "print(tensor)\n",
    "\n",
    "# This creates a 2D tensor with random values.\n",
    "tensor = torch.rand(3, 2)\n",
    "print()\n",
    "print(tensor)\n",
    "\n",
    "# This creates a 2D tensor with all zeros.\n",
    "tensor = torch.zeros(3, 2)\n",
    "print()\n",
    "print(tensor)\n",
    "\n",
    "# This creates a 2D tensor with all ones.\n",
    "tensor = torch.ones(3, 2)\n",
    "print()\n",
    "print(tensor)"
   ]
  },
  {
   "cell_type": "markdown",
   "metadata": {},
   "source": [
    "### Slicing"
   ]
  },
  {
   "cell_type": "code",
   "execution_count": 8,
   "metadata": {},
   "outputs": [
    {
     "name": "stdout",
     "output_type": "stream",
     "text": [
      "tensor([1, 2, 3])\n",
      "tensor([1, 4])\n",
      "tensor([4, 5, 6])\n",
      "tensor([[1, 2],\n",
      "        [4, 5]])\n",
      "tensor([[4, 5, 6]])\n",
      "tensor([4, 5, 6])\n"
     ]
    }
   ],
   "source": [
    "# same as numpy\n",
    "# Prompt: Now please create some basic examples of slicing tensors using PyTorch \n",
    "# and please add brief but useful comments to the code.\n",
    "\n",
    "# Create a 2D tensor\n",
    "tensor = torch.tensor([[1, 2, 3], [4, 5, 6]])\n",
    "\n",
    "# Slicing by row and column\n",
    "print(tensor[0, :])  # Get the first row\n",
    "print(tensor[:, 0])  # Get the first column\n",
    "print(tensor[1, :])  # Get the second row and all columns\n",
    "\n",
    "# Slicing by range\n",
    "print(tensor[0:2, 0:2])  # Get the first two rows and first two columns\n",
    "print(tensor[1:, :])  # Get all rows and the second column onwards\n",
    "\n",
    "# Slicing by Boolean condition\n",
    "print(tensor[tensor > 3])  # Get all elements greater than 3\n"
   ]
  },
  {
   "cell_type": "markdown",
   "metadata": {},
   "source": [
    "### Operations with Tensors"
   ]
  },
  {
   "cell_type": "code",
   "execution_count": 9,
   "metadata": {},
   "outputs": [
    {
     "name": "stdout",
     "output_type": "stream",
     "text": [
      "tensor([[0, 1, 2],\n",
      "        [3, 4, 5],\n",
      "        [6, 7, 8]])\n",
      "\n",
      "tensor([[ 3,  4,  5],\n",
      "        [ 6,  7,  8],\n",
      "        [ 9, 10, 11]])\n",
      "\n",
      "tensor([[ 0,  3,  6],\n",
      "        [ 9, 12, 15],\n",
      "        [18, 21, 24]])\n",
      "\n",
      "tensor([[0.5000, 0.7311, 0.8808],\n",
      "        [0.9526, 0.9820, 0.9933],\n",
      "        [0.9975, 0.9991, 0.9997]])\n",
      "\n",
      "tensor([3., 4., 5.])\n",
      "torch.return_types.min(\n",
      "values=tensor([0, 3, 6]),\n",
      "indices=tensor([0, 0, 0]))\n",
      "tensor(8)\n",
      "8\n"
     ]
    }
   ],
   "source": [
    "# again most operations are element-wise\n",
    "some_tensor = torch.reshape(torch.arange(9), (3,3))\n",
    "print(some_tensor)\n",
    "\n",
    "# scalar addition\n",
    "print()\n",
    "print(some_tensor + 3)\n",
    "\n",
    "# scalar product\n",
    "print()\n",
    "print(some_tensor * 3)\n",
    "\n",
    "# apply some function, again, element-wise\n",
    "print()\n",
    "print(torch.sigmoid(some_tensor))\n",
    "\n",
    "# mean, min, max\n",
    "print()\n",
    "print(torch.mean(some_tensor.float(), 0))  # note I had to cast to float\n",
    "print(torch.min(some_tensor, 1))          # what does this return? See docs!\n",
    "print(torch.max(some_tensor))\n",
    "\n",
    "# get basic data type out of tensor\n",
    "print(torch.max(some_tensor).item())\n"
   ]
  },
  {
   "cell_type": "code",
   "execution_count": 10,
   "metadata": {},
   "outputs": [
    {
     "name": "stdout",
     "output_type": "stream",
     "text": [
      "tensor(6.)\n",
      "\n",
      "tensor([2., 2., 2.])\n",
      "tensor([[0.1726, 0.3125, 0.4395],\n",
      "        [0.2278, 0.1492, 0.1945]])\n",
      "tensor([1.8491, 1.1429])\n",
      "\n",
      "tensor([[0.1726, 0.3125, 0.4395],\n",
      "        [0.2278, 0.1492, 0.1945]])\n",
      "tensor([[0.0516, 0.8418, 0.6356, 0.4422],\n",
      "        [0.3086, 0.6824, 0.0314, 0.1303],\n",
      "        [0.5906, 0.0029, 0.6704, 0.1106]])\n",
      "tensor([[0.3649, 0.3598, 0.4142, 0.1657],\n",
      "        [0.1727, 0.2941, 0.2798, 0.1417]])\n",
      "\n",
      "torch.Size([10, 3, 5])\n",
      "\n",
      "tensor([[1., 1., 1., 1., 1., 1., 1., 1., 1., 1.],\n",
      "        [1., 1., 1., 1., 1., 1., 1., 1., 1., 1.],\n",
      "        [1., 1., 1., 1., 1., 1., 1., 1., 1., 1.]])\n",
      "tensor([[3., 3., 3., 3., 3., 3., 3., 3., 3., 3.],\n",
      "        [3., 3., 3., 3., 3., 3., 3., 3., 3., 3.],\n",
      "        [3., 3., 3., 3., 3., 3., 3., 3., 3., 3.]])\n",
      "tensor([[[30.]],\n",
      "\n",
      "        [[30.]],\n",
      "\n",
      "        [[30.]]])\n"
     ]
    }
   ],
   "source": [
    "# common math operations\n",
    "\n",
    "# dot product\n",
    "a = torch.ones(3)\n",
    "b = torch.tensor([2., 2., 2.])\n",
    "print(torch.dot(a, b))\n",
    "\n",
    "# matrix-vector product\n",
    "print()\n",
    "c = torch.rand(2, 3)\n",
    "print(b)\n",
    "print(c)\n",
    "print(torch.mv(c, b))\n",
    "\n",
    "# matrix-matrix product\n",
    "print()\n",
    "d = torch.rand(3, 4)\n",
    "print(c)\n",
    "print(d)\n",
    "print(torch.mm(c, d))\n",
    "\n",
    "# batch matrix-matrix operations \n",
    "# multiplies corresponding front slices (dim 0)\n",
    "print()\n",
    "e = torch.randn(10, 3, 4)\n",
    "f = torch.randn(10, 4, 5)\n",
    "print(torch.bmm(e, f).size())\n",
    "\n",
    "# useful for things like row-wise dot product of matrices\n",
    "print()\n",
    "g = torch.ones(3, 10)\n",
    "h = torch.add(torch.ones(3, 10), 2)\n",
    "print(g)\n",
    "print(h)\n",
    "print(torch.bmm(g.view(3, 1, 10), h.view(3, 10, 1)))"
   ]
  },
  {
   "cell_type": "code",
   "execution_count": null,
   "metadata": {},
   "outputs": [],
   "source": [
    "# one ring to rule them all (matmul)\n",
    "\n",
    "# dot if two vectors as input\n",
    "a = torch.ones(3)\n",
    "b = torch.tensor([2., 2., 2.])\n",
    "print(torch.matmul(a, b))\n",
    "\n",
    "# matrix-vector if matrix and vector as input\n",
    "print()\n",
    "c = torch.rand(2, 3)\n",
    "print(torch.matmul(c, b))\n",
    "\n",
    "# matrix-matrix if two matrices as input\n",
    "print()\n",
    "d = torch.rand(3, 4)\n",
    "print(torch.matmul(c, d))\n",
    "\n",
    "# bmm if two 3-way tensors as input\n",
    "print()\n",
    "e = torch.randn(10, 3, 4)\n",
    "f = torch.randn(10, 4, 5)\n",
    "print(torch.matmul(e, f).size())"
   ]
  },
  {
   "cell_type": "markdown",
   "metadata": {},
   "source": [
    "### Broadcasting\n",
    "\n",
    "* The entire discussion above about vectorized computation and broadcasting \n",
    "applies directly to PyTorch.\n",
    "* In fact, [broadcasting](https://pytorch.org/docs/main/notes/broadcasting.html#broadcasting-semantics) is often part of the documentation of functions in \n",
    "PyTorch."
   ]
  },
  {
   "cell_type": "markdown",
   "metadata": {},
   "source": [
    "### Numpy Arrays vs PyTorch Tensors\n",
    "\n",
    "As mentioned before, they are different objects!"
   ]
  },
  {
   "cell_type": "code",
   "execution_count": 12,
   "metadata": {},
   "outputs": [
    {
     "name": "stdout",
     "output_type": "stream",
     "text": [
      "SHAPE\n",
      "(9,)\n",
      "torch.Size([9])\n",
      "torch.Size([9])\n",
      "\n",
      "DEVICE\n",
      "last_array has no attribute 'device'.\n",
      "cpu\n",
      "\n",
      "GRADIENT\n",
      "last_array has no attribute 'grad'.\n",
      "None\n"
     ]
    }
   ],
   "source": [
    "from pprint import pprint\n",
    "\n",
    "last_array = np.arange(9)\n",
    "last_tensor = torch.arange(9)\n",
    "\n",
    "# shape\n",
    "print(\"SHAPE\")\n",
    "print(last_array.shape)\n",
    "print(last_tensor.shape)\n",
    "print(last_tensor.size())\n",
    "\n",
    "# device\n",
    "print()\n",
    "print(\"DEVICE\")\n",
    "if hasattr(last_array, \"device\"):\n",
    "    print(last_array.device)\n",
    "else:\n",
    "    print(\"last_array has no attribute 'device'.\")\n",
    "if hasattr(last_tensor, \"device\"):\n",
    "    print(last_tensor.device)\n",
    "\n",
    "# device\n",
    "print()\n",
    "print(\"GRADIENT\")\n",
    "if hasattr(last_array, \"grad\"):\n",
    "    print(last_array.grad)\n",
    "else:\n",
    "    print(\"last_array has no attribute 'grad'.\")\n",
    "if hasattr(last_tensor, \"grad\"):\n",
    "    print(last_tensor.grad)\n",
    "else:\n",
    "    print(\"last_tensor has no attribute 'grad'.\")\n"
   ]
  },
  {
   "cell_type": "markdown",
   "metadata": {},
   "source": [
    "## Consulting Documentation\n",
    "\n",
    "* Every library should be well documented.\n",
    "* [Numpy](https://numpy.org/doc/stable/index.html) and \n",
    "[PyTorch](https://pytorch.org/docs/stable/index.html) certainly are.\n",
    "* Get used to reading documentation!\n",
    "* How to consult it? Google, read, test.\n",
    "* Value of learning the fundamentals? You understand documentation!\n",
    "* How to think about what you need? Using the library is better than DIY!\n",
    "    Think about your need, google functions/how to do that.\n",
    "    Example? The gather function (give you real-life example)"
   ]
  }
 ],
 "metadata": {
  "kernelspec": {
   "display_name": "nlp_teaching",
   "language": "python",
   "name": "python3"
  },
  "language_info": {
   "codemirror_mode": {
    "name": "ipython",
    "version": 3
   },
   "file_extension": ".py",
   "mimetype": "text/x-python",
   "name": "python",
   "nbconvert_exporter": "python",
   "pygments_lexer": "ipython3",
   "version": "3.9.18"
  }
 },
 "nbformat": 4,
 "nbformat_minor": 4
}
